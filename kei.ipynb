{
 "cells": [
  {
   "cell_type": "code",
   "execution_count": 2,
   "metadata": {},
   "outputs": [
    {
     "name": "stderr",
     "output_type": "stream",
     "text": [
      "Error: Can not import avx core while this file exists: /home/axsae/.pyenv/versions/3.8.0/envs/venv_paddle/lib/python3.8/site-packages/paddle/fluid/core_avx.so\n"
     ]
    },
    {
     "ename": "ImportError",
     "evalue": "/home/axsae/.pyenv/versions/3.8.0/envs/venv_paddle/lib/python3.8/site-packages/paddle/fluid/core_avx.so: undefined symbol: _dl_sym, version GLIBC_PRIVATE",
     "output_type": "error",
     "traceback": [
      "\u001b[0;31m---------------------------------------------------------------------------\u001b[0m",
      "\u001b[0;31mImportError\u001b[0m                               Traceback (most recent call last)",
      "Cell \u001b[0;32mIn[2], line 1\u001b[0m\n\u001b[0;32m----> 1\u001b[0m \u001b[39mimport\u001b[39;00m \u001b[39mpaddle\u001b[39;00m\n\u001b[1;32m      2\u001b[0m paddle\u001b[39m.\u001b[39mutils\u001b[39m.\u001b[39mrun_check()\n",
      "File \u001b[0;32m~/.pyenv/versions/3.8.0/envs/venv_paddle/lib/python3.8/site-packages/paddle/__init__.py:25\u001b[0m\n\u001b[1;32m     20\u001b[0m     sys\u001b[39m.\u001b[39mstderr\u001b[39m.\u001b[39mwrite(\u001b[39m'''\u001b[39m\u001b[39mWarning with import paddle: you should not\u001b[39m\n\u001b[1;32m     21\u001b[0m \u001b[39m     import paddle from the source directory; please install paddlepaddle*.whl firstly.\u001b[39m\u001b[39m'''\u001b[39m\n\u001b[1;32m     22\u001b[0m                      )\n\u001b[1;32m     24\u001b[0m \u001b[39mfrom\u001b[39;00m \u001b[39m.\u001b[39;00m\u001b[39mbatch\u001b[39;00m \u001b[39mimport\u001b[39;00m batch  \u001b[39m# noqa: F401\u001b[39;00m\n\u001b[0;32m---> 25\u001b[0m \u001b[39mfrom\u001b[39;00m \u001b[39m.\u001b[39;00m\u001b[39mframework\u001b[39;00m \u001b[39mimport\u001b[39;00m monkey_patch_variable\n\u001b[1;32m     26\u001b[0m \u001b[39mfrom\u001b[39;00m \u001b[39m.\u001b[39;00m\u001b[39mframework\u001b[39;00m \u001b[39mimport\u001b[39;00m monkey_patch_math_varbase\n\u001b[1;32m     27\u001b[0m monkey_patch_variable()\n",
      "File \u001b[0;32m~/.pyenv/versions/3.8.0/envs/venv_paddle/lib/python3.8/site-packages/paddle/framework/__init__.py:17\u001b[0m\n\u001b[1;32m      1\u001b[0m \u001b[39m#   Copyright (c) 2020 PaddlePaddle Authors. All Rights Reserved.\u001b[39;00m\n\u001b[1;32m      2\u001b[0m \u001b[39m#\u001b[39;00m\n\u001b[1;32m      3\u001b[0m \u001b[39m# Licensed under the Apache License, Version 2.0 (the \"License\");\u001b[39;00m\n\u001b[0;32m   (...)\u001b[0m\n\u001b[1;32m     14\u001b[0m \n\u001b[1;32m     15\u001b[0m \u001b[39m# TODO: import framework api under this directory \u001b[39;00m\n\u001b[0;32m---> 17\u001b[0m \u001b[39mfrom\u001b[39;00m \u001b[39m.\u001b[39;00m \u001b[39mimport\u001b[39;00m random  \u001b[39m# noqa: F401\u001b[39;00m\n\u001b[1;32m     18\u001b[0m \u001b[39mfrom\u001b[39;00m \u001b[39m.\u001b[39;00m\u001b[39mrandom\u001b[39;00m \u001b[39mimport\u001b[39;00m seed  \u001b[39m# noqa: F401\u001b[39;00m\n\u001b[1;32m     19\u001b[0m \u001b[39mfrom\u001b[39;00m \u001b[39m.\u001b[39;00m\u001b[39mframework\u001b[39;00m \u001b[39mimport\u001b[39;00m get_default_dtype  \u001b[39m# noqa: F401\u001b[39;00m\n",
      "File \u001b[0;32m~/.pyenv/versions/3.8.0/envs/venv_paddle/lib/python3.8/site-packages/paddle/framework/random.py:16\u001b[0m\n\u001b[1;32m      1\u001b[0m \u001b[39m#   Copyright (c) 2020 PaddlePaddle Authors. All Rights Reserved.\u001b[39;00m\n\u001b[1;32m      2\u001b[0m \u001b[39m#\u001b[39;00m\n\u001b[1;32m      3\u001b[0m \u001b[39m# Licensed under the Apache License, Version 2.0 (the \"License\");\u001b[39;00m\n\u001b[0;32m   (...)\u001b[0m\n\u001b[1;32m     14\u001b[0m \n\u001b[1;32m     15\u001b[0m \u001b[39m# TODO: define random api\u001b[39;00m\n\u001b[0;32m---> 16\u001b[0m \u001b[39mimport\u001b[39;00m \u001b[39mpaddle\u001b[39;00m\u001b[39m.\u001b[39;00m\u001b[39mfluid\u001b[39;00m \u001b[39mas\u001b[39;00m \u001b[39mfluid\u001b[39;00m\n\u001b[1;32m     17\u001b[0m \u001b[39mfrom\u001b[39;00m \u001b[39mpaddle\u001b[39;00m\u001b[39m.\u001b[39;00m\u001b[39mfluid\u001b[39;00m \u001b[39mimport\u001b[39;00m core\n\u001b[1;32m     19\u001b[0m __all__ \u001b[39m=\u001b[39m []\n",
      "File \u001b[0;32m~/.pyenv/versions/3.8.0/envs/venv_paddle/lib/python3.8/site-packages/paddle/fluid/__init__.py:36\u001b[0m\n\u001b[1;32m     33\u001b[0m         \u001b[39mraise\u001b[39;00m e\n\u001b[1;32m     35\u001b[0m \u001b[39m# import all class inside framework into fluid module\u001b[39;00m\n\u001b[0;32m---> 36\u001b[0m \u001b[39mfrom\u001b[39;00m \u001b[39m.\u001b[39;00m \u001b[39mimport\u001b[39;00m framework\n\u001b[1;32m     37\u001b[0m \u001b[39mfrom\u001b[39;00m \u001b[39m.\u001b[39;00m\u001b[39mframework\u001b[39;00m \u001b[39mimport\u001b[39;00m \u001b[39m*\u001b[39m\n\u001b[1;32m     38\u001b[0m \u001b[39m# import all class inside executor into fluid module\u001b[39;00m\n",
      "File \u001b[0;32m~/.pyenv/versions/3.8.0/envs/venv_paddle/lib/python3.8/site-packages/paddle/fluid/framework.py:37\u001b[0m\n\u001b[1;32m     34\u001b[0m \u001b[39mfrom\u001b[39;00m \u001b[39m.\u001b[39;00m\u001b[39m.\u001b[39;00m \u001b[39mimport\u001b[39;00m compat \u001b[39mas\u001b[39;00m cpt\n\u001b[1;32m     35\u001b[0m \u001b[39mfrom\u001b[39;00m \u001b[39m.\u001b[39;00m\u001b[39mproto\u001b[39;00m \u001b[39mimport\u001b[39;00m framework_pb2\n\u001b[0;32m---> 37\u001b[0m \u001b[39mfrom\u001b[39;00m \u001b[39m.\u001b[39;00m \u001b[39mimport\u001b[39;00m core\n\u001b[1;32m     38\u001b[0m \u001b[39mfrom\u001b[39;00m \u001b[39m.\u001b[39;00m \u001b[39mimport\u001b[39;00m unique_name\n\u001b[1;32m     39\u001b[0m \u001b[39mimport\u001b[39;00m \u001b[39mpaddle\u001b[39;00m\u001b[39m.\u001b[39;00m\u001b[39mversion\u001b[39;00m \u001b[39mas\u001b[39;00m \u001b[39mfluid_version\u001b[39;00m\n",
      "File \u001b[0;32m~/.pyenv/versions/3.8.0/envs/venv_paddle/lib/python3.8/site-packages/paddle/fluid/core.py:298\u001b[0m\n\u001b[1;32m    294\u001b[0m \u001b[39mif\u001b[39;00m has_avx_core:\n\u001b[1;32m    295\u001b[0m     sys\u001b[39m.\u001b[39mstderr\u001b[39m.\u001b[39mwrite(\n\u001b[1;32m    296\u001b[0m         \u001b[39m'\u001b[39m\u001b[39mError: Can not import avx core while this file exists: \u001b[39m\u001b[39m'\u001b[39m \u001b[39m+\u001b[39m\n\u001b[1;32m    297\u001b[0m         current_path \u001b[39m+\u001b[39m os\u001b[39m.\u001b[39msep \u001b[39m+\u001b[39m \u001b[39m'\u001b[39m\u001b[39mcore_avx.\u001b[39m\u001b[39m'\u001b[39m \u001b[39m+\u001b[39m core_suffix \u001b[39m+\u001b[39m \u001b[39m'\u001b[39m\u001b[39m\\n\u001b[39;00m\u001b[39m'\u001b[39m)\n\u001b[0;32m--> 298\u001b[0m     \u001b[39mraise\u001b[39;00m e\n\u001b[1;32m    299\u001b[0m \u001b[39melse\u001b[39;00m:\n\u001b[1;32m    300\u001b[0m     \u001b[39mfrom\u001b[39;00m \u001b[39m.\u001b[39;00m\u001b[39m.\u001b[39;00m \u001b[39mimport\u001b[39;00m compat \u001b[39mas\u001b[39;00m cpt\n",
      "File \u001b[0;32m~/.pyenv/versions/3.8.0/envs/venv_paddle/lib/python3.8/site-packages/paddle/fluid/core.py:256\u001b[0m\n\u001b[1;32m    254\u001b[0m \u001b[39mif\u001b[39;00m avx_supported():\n\u001b[1;32m    255\u001b[0m     \u001b[39mtry\u001b[39;00m:\n\u001b[0;32m--> 256\u001b[0m         \u001b[39mfrom\u001b[39;00m \u001b[39m.\u001b[39;00m \u001b[39mimport\u001b[39;00m core_avx\n\u001b[1;32m    257\u001b[0m         core_avx\u001b[39m.\u001b[39mLoDTensor \u001b[39m=\u001b[39m core_avx\u001b[39m.\u001b[39mTensor\n\u001b[1;32m    259\u001b[0m         \u001b[39mfrom\u001b[39;00m \u001b[39m.\u001b[39;00m\u001b[39mcore_avx\u001b[39;00m \u001b[39mimport\u001b[39;00m \u001b[39m*\u001b[39m\n",
      "\u001b[0;31mImportError\u001b[0m: /home/axsae/.pyenv/versions/3.8.0/envs/venv_paddle/lib/python3.8/site-packages/paddle/fluid/core_avx.so: undefined symbol: _dl_sym, version GLIBC_PRIVATE"
     ]
    }
   ],
   "source": [
    "import paddle\n",
    "paddle.utils.run_check()"
   ]
  },
  {
   "cell_type": "code",
   "execution_count": 1,
   "metadata": {},
   "outputs": [
    {
     "name": "stderr",
     "output_type": "stream",
     "text": [
      "Error: Can not import paddle core while this file exists: /home/axsae/Desktop/PaddleProject/venv_paddle/lib/python3.8/site-packages/paddle/fluid/libpaddle.so\n"
     ]
    },
    {
     "ename": "ImportError",
     "evalue": "libcudart.so.10.2: cannot open shared object file: No such file or directory",
     "output_type": "error",
     "traceback": [
      "\u001b[0;31m---------------------------------------------------------------------------\u001b[0m",
      "\u001b[0;31mImportError\u001b[0m                               Traceback (most recent call last)",
      "Cell \u001b[0;32mIn[1], line 1\u001b[0m\n\u001b[0;32m----> 1\u001b[0m \u001b[39mimport\u001b[39;00m \u001b[39mpaddleocr\u001b[39;00m\n\u001b[1;32m      3\u001b[0m ocr \u001b[39m=\u001b[39m paddle\u001b[39m.\u001b[39mOCR()\n\u001b[1;32m      4\u001b[0m image_path \u001b[39m=\u001b[39m \u001b[39m'\u001b[39m\u001b[39mlayout_analysis.png\u001b[39m\u001b[39m'\u001b[39m\n",
      "File \u001b[0;32m~/Desktop/PaddleProject/venv_paddle/lib/python3.8/site-packages/paddleocr/__init__.py:14\u001b[0m\n\u001b[1;32m      1\u001b[0m \u001b[39m# Copyright (c) 2020 PaddlePaddle Authors. All Rights Reserved.\u001b[39;00m\n\u001b[1;32m      2\u001b[0m \u001b[39m#\u001b[39;00m\n\u001b[1;32m      3\u001b[0m \u001b[39m# Licensed under the Apache License, Version 2.0 (the \"License\");\u001b[39;00m\n\u001b[0;32m   (...)\u001b[0m\n\u001b[1;32m     12\u001b[0m \u001b[39m# See the License for the specific language governing permissions and\u001b[39;00m\n\u001b[1;32m     13\u001b[0m \u001b[39m# limitations under the License.\u001b[39;00m\n\u001b[0;32m---> 14\u001b[0m \u001b[39mfrom\u001b[39;00m \u001b[39m.\u001b[39;00m\u001b[39mpaddleocr\u001b[39;00m \u001b[39mimport\u001b[39;00m \u001b[39m*\u001b[39m\n\u001b[1;32m     16\u001b[0m __version__ \u001b[39m=\u001b[39m paddleocr\u001b[39m.\u001b[39mVERSION\n\u001b[1;32m     17\u001b[0m __all__ \u001b[39m=\u001b[39m [\n\u001b[1;32m     18\u001b[0m     \u001b[39m'\u001b[39m\u001b[39mPaddleOCR\u001b[39m\u001b[39m'\u001b[39m, \u001b[39m'\u001b[39m\u001b[39mPPStructure\u001b[39m\u001b[39m'\u001b[39m, \u001b[39m'\u001b[39m\u001b[39mdraw_ocr\u001b[39m\u001b[39m'\u001b[39m, \u001b[39m'\u001b[39m\u001b[39mdraw_structure_result\u001b[39m\u001b[39m'\u001b[39m,\n\u001b[1;32m     19\u001b[0m     \u001b[39m'\u001b[39m\u001b[39msave_structure_res\u001b[39m\u001b[39m'\u001b[39m, \u001b[39m'\u001b[39m\u001b[39mdownload_with_progressbar\u001b[39m\u001b[39m'\u001b[39m, \u001b[39m'\u001b[39m\u001b[39msorted_layout_boxes\u001b[39m\u001b[39m'\u001b[39m,\n\u001b[1;32m     20\u001b[0m     \u001b[39m'\u001b[39m\u001b[39mconvert_info_docx\u001b[39m\u001b[39m'\u001b[39m, \u001b[39m'\u001b[39m\u001b[39mto_excel\u001b[39m\u001b[39m'\u001b[39m\n\u001b[1;32m     21\u001b[0m ]\n",
      "File \u001b[0;32m~/Desktop/PaddleProject/venv_paddle/lib/python3.8/site-packages/paddleocr/paddleocr.py:21\u001b[0m\n\u001b[1;32m     17\u001b[0m \u001b[39mimport\u001b[39;00m \u001b[39mimportlib\u001b[39;00m\n\u001b[1;32m     19\u001b[0m \u001b[39m__dir__\u001b[39m \u001b[39m=\u001b[39m os\u001b[39m.\u001b[39mpath\u001b[39m.\u001b[39mdirname(\u001b[39m__file__\u001b[39m)\n\u001b[0;32m---> 21\u001b[0m \u001b[39mimport\u001b[39;00m \u001b[39mpaddle\u001b[39;00m\n\u001b[1;32m     23\u001b[0m sys\u001b[39m.\u001b[39mpath\u001b[39m.\u001b[39mappend(os\u001b[39m.\u001b[39mpath\u001b[39m.\u001b[39mjoin(\u001b[39m__dir__\u001b[39m, \u001b[39m'\u001b[39m\u001b[39m'\u001b[39m))\n\u001b[1;32m     25\u001b[0m \u001b[39mimport\u001b[39;00m \u001b[39mcv2\u001b[39;00m\n",
      "File \u001b[0;32m~/Desktop/PaddleProject/venv_paddle/lib/python3.8/site-packages/paddle/__init__.py:25\u001b[0m\n\u001b[1;32m     20\u001b[0m     sys\u001b[39m.\u001b[39mstderr\u001b[39m.\u001b[39mwrite(\u001b[39m'''\u001b[39m\u001b[39mWarning with import paddle: you should not\u001b[39m\n\u001b[1;32m     21\u001b[0m \u001b[39m     import paddle from the source directory; please install paddlepaddle*.whl firstly.\u001b[39m\u001b[39m'''\u001b[39m\n\u001b[1;32m     22\u001b[0m                      )\n\u001b[1;32m     24\u001b[0m \u001b[39mfrom\u001b[39;00m \u001b[39m.\u001b[39;00m\u001b[39mbatch\u001b[39;00m \u001b[39mimport\u001b[39;00m batch  \u001b[39m# noqa: F401\u001b[39;00m\n\u001b[0;32m---> 25\u001b[0m \u001b[39mfrom\u001b[39;00m \u001b[39m.\u001b[39;00m\u001b[39mframework\u001b[39;00m \u001b[39mimport\u001b[39;00m monkey_patch_variable\n\u001b[1;32m     26\u001b[0m \u001b[39mfrom\u001b[39;00m \u001b[39m.\u001b[39;00m\u001b[39mframework\u001b[39;00m \u001b[39mimport\u001b[39;00m monkey_patch_math_varbase\n\u001b[1;32m     28\u001b[0m monkey_patch_variable()\n",
      "File \u001b[0;32m~/Desktop/PaddleProject/venv_paddle/lib/python3.8/site-packages/paddle/framework/__init__.py:17\u001b[0m\n\u001b[1;32m      1\u001b[0m \u001b[39m#   Copyright (c) 2020 PaddlePaddle Authors. All Rights Reserved.\u001b[39;00m\n\u001b[1;32m      2\u001b[0m \u001b[39m#\u001b[39;00m\n\u001b[1;32m      3\u001b[0m \u001b[39m# Licensed under the Apache License, Version 2.0 (the \"License\");\u001b[39;00m\n\u001b[0;32m   (...)\u001b[0m\n\u001b[1;32m     14\u001b[0m \n\u001b[1;32m     15\u001b[0m \u001b[39m# TODO: import framework api under this directory\u001b[39;00m\n\u001b[0;32m---> 17\u001b[0m \u001b[39mfrom\u001b[39;00m \u001b[39m.\u001b[39;00m \u001b[39mimport\u001b[39;00m random  \u001b[39m# noqa: F401\u001b[39;00m\n\u001b[1;32m     18\u001b[0m \u001b[39mfrom\u001b[39;00m \u001b[39m.\u001b[39;00m\u001b[39mrandom\u001b[39;00m \u001b[39mimport\u001b[39;00m seed  \u001b[39m# noqa: F401\u001b[39;00m\n\u001b[1;32m     19\u001b[0m \u001b[39mfrom\u001b[39;00m \u001b[39m.\u001b[39;00m\u001b[39mframework\u001b[39;00m \u001b[39mimport\u001b[39;00m get_default_dtype  \u001b[39m# noqa: F401\u001b[39;00m\n",
      "File \u001b[0;32m~/Desktop/PaddleProject/venv_paddle/lib/python3.8/site-packages/paddle/framework/random.py:16\u001b[0m\n\u001b[1;32m      1\u001b[0m \u001b[39m#   Copyright (c) 2020 PaddlePaddle Authors. All Rights Reserved.\u001b[39;00m\n\u001b[1;32m      2\u001b[0m \u001b[39m#\u001b[39;00m\n\u001b[1;32m      3\u001b[0m \u001b[39m# Licensed under the Apache License, Version 2.0 (the \"License\");\u001b[39;00m\n\u001b[0;32m   (...)\u001b[0m\n\u001b[1;32m     14\u001b[0m \n\u001b[1;32m     15\u001b[0m \u001b[39m# TODO: define random api\u001b[39;00m\n\u001b[0;32m---> 16\u001b[0m \u001b[39mimport\u001b[39;00m \u001b[39mpaddle\u001b[39;00m\u001b[39m.\u001b[39;00m\u001b[39mfluid\u001b[39;00m \u001b[39mas\u001b[39;00m \u001b[39mfluid\u001b[39;00m\n\u001b[1;32m     17\u001b[0m \u001b[39mfrom\u001b[39;00m \u001b[39mpaddle\u001b[39;00m\u001b[39m.\u001b[39;00m\u001b[39mfluid\u001b[39;00m \u001b[39mimport\u001b[39;00m core\n\u001b[1;32m     19\u001b[0m __all__ \u001b[39m=\u001b[39m []\n",
      "File \u001b[0;32m~/Desktop/PaddleProject/venv_paddle/lib/python3.8/site-packages/paddle/fluid/__init__.py:36\u001b[0m\n\u001b[1;32m     33\u001b[0m         \u001b[39mraise\u001b[39;00m e\n\u001b[1;32m     35\u001b[0m \u001b[39m# import all class inside framework into fluid module\u001b[39;00m\n\u001b[0;32m---> 36\u001b[0m \u001b[39mfrom\u001b[39;00m \u001b[39m.\u001b[39;00m \u001b[39mimport\u001b[39;00m framework\n\u001b[1;32m     37\u001b[0m \u001b[39mfrom\u001b[39;00m \u001b[39m.\u001b[39;00m\u001b[39mframework\u001b[39;00m \u001b[39mimport\u001b[39;00m \u001b[39m*\u001b[39m\n\u001b[1;32m     38\u001b[0m \u001b[39m# import all class inside executor into fluid module\u001b[39;00m\n",
      "File \u001b[0;32m~/Desktop/PaddleProject/venv_paddle/lib/python3.8/site-packages/paddle/fluid/framework.py:37\u001b[0m\n\u001b[1;32m     34\u001b[0m \u001b[39mfrom\u001b[39;00m \u001b[39m.\u001b[39;00m\u001b[39m.\u001b[39;00m \u001b[39mimport\u001b[39;00m compat \u001b[39mas\u001b[39;00m cpt\n\u001b[1;32m     35\u001b[0m \u001b[39mfrom\u001b[39;00m \u001b[39m.\u001b[39;00m\u001b[39mproto\u001b[39;00m \u001b[39mimport\u001b[39;00m framework_pb2\n\u001b[0;32m---> 37\u001b[0m \u001b[39mfrom\u001b[39;00m \u001b[39m.\u001b[39;00m \u001b[39mimport\u001b[39;00m core\n\u001b[1;32m     38\u001b[0m \u001b[39mfrom\u001b[39;00m \u001b[39m.\u001b[39;00m \u001b[39mimport\u001b[39;00m unique_name\n\u001b[1;32m     39\u001b[0m \u001b[39mimport\u001b[39;00m \u001b[39mpaddle\u001b[39;00m\u001b[39m.\u001b[39;00m\u001b[39mversion\u001b[39;00m \u001b[39mas\u001b[39;00m \u001b[39mfluid_version\u001b[39;00m\n",
      "File \u001b[0;32m~/Desktop/PaddleProject/venv_paddle/lib/python3.8/site-packages/paddle/fluid/core.py:338\u001b[0m\n\u001b[1;32m    333\u001b[0m     \u001b[39mif\u001b[39;00m \u001b[39mnot\u001b[39;00m avx_supported() \u001b[39mand\u001b[39;00m libpaddle\u001b[39m.\u001b[39mis_compiled_with_avx():\n\u001b[1;32m    334\u001b[0m         sys\u001b[39m.\u001b[39mstderr\u001b[39m.\u001b[39mwrite(\n\u001b[1;32m    335\u001b[0m             \u001b[39m\"\u001b[39m\u001b[39mError: Your machine doesn\u001b[39m\u001b[39m'\u001b[39m\u001b[39mt support AVX, but the installed PaddlePaddle is avx core, \u001b[39m\u001b[39m\"\u001b[39m\n\u001b[1;32m    336\u001b[0m             \u001b[39m\"\u001b[39m\u001b[39myou should reinstall paddlepaddle with no-avx core.\u001b[39m\u001b[39m\\n\u001b[39;00m\u001b[39m\"\u001b[39m\n\u001b[1;32m    337\u001b[0m         )\n\u001b[0;32m--> 338\u001b[0m     \u001b[39mraise\u001b[39;00m e\n\u001b[1;32m    341\u001b[0m \u001b[39mdef\u001b[39;00m \u001b[39mset_paddle_custom_device_lib_path\u001b[39m(lib_path):\n\u001b[1;32m    342\u001b[0m     \u001b[39mif\u001b[39;00m os\u001b[39m.\u001b[39menviron\u001b[39m.\u001b[39mget(\u001b[39m'\u001b[39m\u001b[39mCUSTOM_DEVICE_ROOT\u001b[39m\u001b[39m'\u001b[39m, \u001b[39mNone\u001b[39;00m) \u001b[39mis\u001b[39;00m \u001b[39mnot\u001b[39;00m \u001b[39mNone\u001b[39;00m:\n\u001b[1;32m    343\u001b[0m         \u001b[39m# use setted environment value\u001b[39;00m\n",
      "File \u001b[0;32m~/Desktop/PaddleProject/venv_paddle/lib/python3.8/site-packages/paddle/fluid/core.py:274\u001b[0m\n\u001b[1;32m    271\u001b[0m             sys\u001b[39m.\u001b[39mstderr\u001b[39m.\u001b[39mwrite(\u001b[39m'\u001b[39m\u001b[39mError: Can not preload libgomp.so\u001b[39m\u001b[39m'\u001b[39m)\n\u001b[1;32m    273\u001b[0m \u001b[39mtry\u001b[39;00m:\n\u001b[0;32m--> 274\u001b[0m     \u001b[39mfrom\u001b[39;00m \u001b[39m.\u001b[39;00m \u001b[39mimport\u001b[39;00m libpaddle\n\u001b[1;32m    276\u001b[0m     \u001b[39mif\u001b[39;00m avx_supported() \u001b[39mand\u001b[39;00m \u001b[39mnot\u001b[39;00m libpaddle\u001b[39m.\u001b[39mis_compiled_with_avx():\n\u001b[1;32m    277\u001b[0m         sys\u001b[39m.\u001b[39mstderr\u001b[39m.\u001b[39mwrite(\n\u001b[1;32m    278\u001b[0m             \u001b[39m\"\u001b[39m\u001b[39mHint: Your machine support AVX, but the installed paddlepaddle doesn\u001b[39m\u001b[39m'\u001b[39m\u001b[39mt have avx core. \u001b[39m\u001b[39m\"\u001b[39m\n\u001b[1;32m    279\u001b[0m             \u001b[39m\"\u001b[39m\u001b[39mHence, no-avx core with worse preformance will be imported.\u001b[39m\u001b[39m\\n\u001b[39;00m\u001b[39mIf you like, you could \u001b[39m\u001b[39m\"\u001b[39m\n\u001b[1;32m    280\u001b[0m             \u001b[39m\"\u001b[39m\u001b[39mreinstall paddlepaddle by \u001b[39m\u001b[39m'\u001b[39m\u001b[39mpython -m pip install --force-reinstall paddlepaddle-gpu[==version]\u001b[39m\u001b[39m'\u001b[39m\u001b[39m \u001b[39m\u001b[39m\"\u001b[39m\n\u001b[1;32m    281\u001b[0m             \u001b[39m\"\u001b[39m\u001b[39mto get better performance.\u001b[39m\u001b[39m\\n\u001b[39;00m\u001b[39m\"\u001b[39m\n\u001b[1;32m    282\u001b[0m         )\n",
      "\u001b[0;31mImportError\u001b[0m: libcudart.so.10.2: cannot open shared object file: No such file or directory"
     ]
    }
   ],
   "source": [
    "import paddleocr\n",
    "\n",
    "ocr = paddle.OCR()\n",
    "image_path = 'layout_analysis.png'\n",
    "result = ocr.ocr(image_path)"
   ]
  }
 ],
 "metadata": {
  "kernelspec": {
   "display_name": "venv_paddle",
   "language": "python",
   "name": "python3"
  },
  "language_info": {
   "codemirror_mode": {
    "name": "ipython",
    "version": 3
   },
   "file_extension": ".py",
   "mimetype": "text/x-python",
   "name": "python",
   "nbconvert_exporter": "python",
   "pygments_lexer": "ipython3",
   "version": "3.8.0"
  },
  "orig_nbformat": 4,
  "vscode": {
   "interpreter": {
    "hash": "f07da5f766b27806029b62d309432f7fbe2bffc603559ff7810cb577c8d1dca0"
   }
  }
 },
 "nbformat": 4,
 "nbformat_minor": 2
}
